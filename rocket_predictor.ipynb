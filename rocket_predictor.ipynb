{
 "metadata": {
  "language_info": {
   "codemirror_mode": {
    "name": "ipython",
    "version": 3
   },
   "file_extension": ".py",
   "mimetype": "text/x-python",
   "name": "python",
   "nbconvert_exporter": "python",
   "pygments_lexer": "ipython3",
   "version": "3.7.10-final"
  },
  "orig_nbformat": 2,
  "kernelspec": {
   "name": "python3",
   "display_name": "Python 3.7.10 64-bit ('devdatascience': conda)",
   "metadata": {
    "interpreter": {
     "hash": "4e89e9859ffbab21cf1611804b15aa0fba07d00f3546eb7fd8fc322a6e193e66"
    }
   }
  }
 },
 "nbformat": 4,
 "nbformat_minor": 2,
 "cells": [
  {
   "source": [
    "LOAD LIB\n"
   ],
   "cell_type": "markdown",
   "metadata": {}
  },
  {
   "cell_type": "code",
   "execution_count": 1,
   "metadata": {},
   "outputs": [],
   "source": [
    "# Pandas library is used for handling tabular data\n",
    "import pandas as pd\n",
    "# NumPy is used for handling numerical series operations (addition, multiplication, and ...)\n",
    "import numpy as np\n",
    "# Sklearn library contains all the machine learning packages we need to digest and extract patterns from the data\n",
    "from sklearn import linear_model, model_selection, metrics\n",
    "from sklearn.model_selection import train_test_split\n",
    "\n",
    "# Machine learning libraries used to build a decision tree\n",
    "from sklearn.tree import DecisionTreeClassifier\n",
    "from sklearn import tree\n",
    "\n",
    "# Sklearn's preprocessing library is used for processing and cleaning the data \n",
    "from sklearn import preprocessing\n",
    "\n",
    "# for visualizing the tree\n",
    "import pydotplus\n",
    "from IPython.display import Image"
   ]
  },
  {
   "source": [
    "READ DATA IN"
   ],
   "cell_type": "markdown",
   "metadata": {}
  },
  {
   "cell_type": "code",
   "execution_count": 2,
   "metadata": {},
   "outputs": [
    {
     "output_type": "execute_result",
     "data": {
      "text/plain": [
       "        Name       Date Time (East Coast)        Location Crewed or Uncrewed  \\\n",
       "0        NaN 1958-12-04               NaN  Cape Canaveral                NaN   \n",
       "1        NaN 1958-12-05               NaN  Cape Canaveral                NaN   \n",
       "2  Pioneer 3 1958-12-06          01:45:00  Cape Canaveral           Uncrewed   \n",
       "3        NaN 1958-12-07               NaN  Cape Canaveral                NaN   \n",
       "4        NaN 1958-12-08               NaN  Cape Canaveral                NaN   \n",
       "\n",
       "  Launched?  High Temp  Low Temp  Ave Temp  Temp at Launch Time  ...  \\\n",
       "0       NaN       75.0      68.0     71.00                  NaN  ...   \n",
       "1       NaN       78.0      70.0     73.39                  NaN  ...   \n",
       "2         Y       73.0       0.0     60.21                 62.0  ...   \n",
       "3       NaN       76.0      57.0     66.04                  NaN  ...   \n",
       "4       NaN       79.0      60.0     70.52                  NaN  ...   \n",
       "\n",
       "   Max Wind Speed  Visibility  Wind Speed at Launch Time  \\\n",
       "0            16.0        15.0                        NaN   \n",
       "1            14.0        10.0                        NaN   \n",
       "2            15.0        10.0                       11.0   \n",
       "3            10.0        10.0                        NaN   \n",
       "4            12.0        10.0                        NaN   \n",
       "\n",
       "   Hist Ave Max Wind Speed  Hist Ave Visibility Sea Level Pressure  \\\n",
       "0                      NaN                  NaN              30.22   \n",
       "1                      NaN                  NaN               30.2   \n",
       "2                      NaN                  NaN              30.25   \n",
       "3                      NaN                  NaN              30.28   \n",
       "4                      NaN                  NaN              30.23   \n",
       "\n",
       "   Hist Ave Sea Level Pressure  Day Length      Condition  Notes  \n",
       "0                          NaN    10:26:00         Cloudy    NaN  \n",
       "1                          NaN    10:26:00         Cloudy    NaN  \n",
       "2                          NaN    10:25:00         Cloudy    NaN  \n",
       "3                          NaN    10:25:00  Partly Cloudy    NaN  \n",
       "4                          NaN    12:24:00  Partly Cloudy    NaN  \n",
       "\n",
       "[5 rows x 26 columns]"
      ],
      "text/html": "<div>\n<style scoped>\n    .dataframe tbody tr th:only-of-type {\n        vertical-align: middle;\n    }\n\n    .dataframe tbody tr th {\n        vertical-align: top;\n    }\n\n    .dataframe thead th {\n        text-align: right;\n    }\n</style>\n<table border=\"1\" class=\"dataframe\">\n  <thead>\n    <tr style=\"text-align: right;\">\n      <th></th>\n      <th>Name</th>\n      <th>Date</th>\n      <th>Time (East Coast)</th>\n      <th>Location</th>\n      <th>Crewed or Uncrewed</th>\n      <th>Launched?</th>\n      <th>High Temp</th>\n      <th>Low Temp</th>\n      <th>Ave Temp</th>\n      <th>Temp at Launch Time</th>\n      <th>...</th>\n      <th>Max Wind Speed</th>\n      <th>Visibility</th>\n      <th>Wind Speed at Launch Time</th>\n      <th>Hist Ave Max Wind Speed</th>\n      <th>Hist Ave Visibility</th>\n      <th>Sea Level Pressure</th>\n      <th>Hist Ave Sea Level Pressure</th>\n      <th>Day Length</th>\n      <th>Condition</th>\n      <th>Notes</th>\n    </tr>\n  </thead>\n  <tbody>\n    <tr>\n      <th>0</th>\n      <td>NaN</td>\n      <td>1958-12-04</td>\n      <td>NaN</td>\n      <td>Cape Canaveral</td>\n      <td>NaN</td>\n      <td>NaN</td>\n      <td>75.0</td>\n      <td>68.0</td>\n      <td>71.00</td>\n      <td>NaN</td>\n      <td>...</td>\n      <td>16.0</td>\n      <td>15.0</td>\n      <td>NaN</td>\n      <td>NaN</td>\n      <td>NaN</td>\n      <td>30.22</td>\n      <td>NaN</td>\n      <td>10:26:00</td>\n      <td>Cloudy</td>\n      <td>NaN</td>\n    </tr>\n    <tr>\n      <th>1</th>\n      <td>NaN</td>\n      <td>1958-12-05</td>\n      <td>NaN</td>\n      <td>Cape Canaveral</td>\n      <td>NaN</td>\n      <td>NaN</td>\n      <td>78.0</td>\n      <td>70.0</td>\n      <td>73.39</td>\n      <td>NaN</td>\n      <td>...</td>\n      <td>14.0</td>\n      <td>10.0</td>\n      <td>NaN</td>\n      <td>NaN</td>\n      <td>NaN</td>\n      <td>30.2</td>\n      <td>NaN</td>\n      <td>10:26:00</td>\n      <td>Cloudy</td>\n      <td>NaN</td>\n    </tr>\n    <tr>\n      <th>2</th>\n      <td>Pioneer 3</td>\n      <td>1958-12-06</td>\n      <td>01:45:00</td>\n      <td>Cape Canaveral</td>\n      <td>Uncrewed</td>\n      <td>Y</td>\n      <td>73.0</td>\n      <td>0.0</td>\n      <td>60.21</td>\n      <td>62.0</td>\n      <td>...</td>\n      <td>15.0</td>\n      <td>10.0</td>\n      <td>11.0</td>\n      <td>NaN</td>\n      <td>NaN</td>\n      <td>30.25</td>\n      <td>NaN</td>\n      <td>10:25:00</td>\n      <td>Cloudy</td>\n      <td>NaN</td>\n    </tr>\n    <tr>\n      <th>3</th>\n      <td>NaN</td>\n      <td>1958-12-07</td>\n      <td>NaN</td>\n      <td>Cape Canaveral</td>\n      <td>NaN</td>\n      <td>NaN</td>\n      <td>76.0</td>\n      <td>57.0</td>\n      <td>66.04</td>\n      <td>NaN</td>\n      <td>...</td>\n      <td>10.0</td>\n      <td>10.0</td>\n      <td>NaN</td>\n      <td>NaN</td>\n      <td>NaN</td>\n      <td>30.28</td>\n      <td>NaN</td>\n      <td>10:25:00</td>\n      <td>Partly Cloudy</td>\n      <td>NaN</td>\n    </tr>\n    <tr>\n      <th>4</th>\n      <td>NaN</td>\n      <td>1958-12-08</td>\n      <td>NaN</td>\n      <td>Cape Canaveral</td>\n      <td>NaN</td>\n      <td>NaN</td>\n      <td>79.0</td>\n      <td>60.0</td>\n      <td>70.52</td>\n      <td>NaN</td>\n      <td>...</td>\n      <td>12.0</td>\n      <td>10.0</td>\n      <td>NaN</td>\n      <td>NaN</td>\n      <td>NaN</td>\n      <td>30.23</td>\n      <td>NaN</td>\n      <td>12:24:00</td>\n      <td>Partly Cloudy</td>\n      <td>NaN</td>\n    </tr>\n  </tbody>\n</table>\n<p>5 rows × 26 columns</p>\n</div>"
     },
     "metadata": {},
     "execution_count": 2
    }
   ],
   "source": [
    "launch_data = pd.read_excel('RocketLaunchDataCompleted.xlsx')\n",
    "launch_data.head()"
   ]
  },
  {
   "source": [
    "EXPLORE COLUMNS"
   ],
   "cell_type": "markdown",
   "metadata": {}
  },
  {
   "cell_type": "code",
   "execution_count": 3,
   "metadata": {},
   "outputs": [
    {
     "output_type": "execute_result",
     "data": {
      "text/plain": [
       "Index(['Name', 'Date', 'Time (East Coast)', 'Location', 'Crewed or Uncrewed',\n",
       "       'Launched?', 'High Temp', 'Low Temp', 'Ave Temp', 'Temp at Launch Time',\n",
       "       'Hist High Temp', 'Hist Low Temp', 'Hist Ave Temp',\n",
       "       'Percipitation at Launch Time', 'Hist Ave Percipitation',\n",
       "       'Wind Direction', 'Max Wind Speed', 'Visibility',\n",
       "       'Wind Speed at Launch Time', 'Hist Ave Max Wind Speed',\n",
       "       'Hist Ave Visibility', 'Sea Level Pressure',\n",
       "       'Hist Ave Sea Level Pressure', 'Day Length', 'Condition', 'Notes'],\n",
       "      dtype='object')"
      ]
     },
     "metadata": {},
     "execution_count": 3
    }
   ],
   "source": [
    "launch_data.columns"
   ]
  },
  {
   "cell_type": "code",
   "execution_count": 4,
   "metadata": {},
   "outputs": [
    {
     "output_type": "stream",
     "name": "stdout",
     "text": [
      "<class 'pandas.core.frame.DataFrame'>\nRangeIndex: 300 entries, 0 to 299\nData columns (total 26 columns):\nName                            60 non-null object\nDate                            300 non-null datetime64[ns]\nTime (East Coast)               59 non-null object\nLocation                        300 non-null object\nCrewed or Uncrewed              60 non-null object\nLaunched?                       60 non-null object\nHigh Temp                       299 non-null float64\nLow Temp                        299 non-null float64\nAve Temp                        299 non-null float64\nTemp at Launch Time             59 non-null float64\nHist High Temp                  299 non-null float64\nHist Low Temp                   299 non-null float64\nHist Ave Temp                   299 non-null float64\nPercipitation at Launch Time    299 non-null float64\nHist Ave Percipitation          299 non-null float64\nWind Direction                  299 non-null object\nMax Wind Speed                  299 non-null float64\nVisibility                      299 non-null float64\nWind Speed at Launch Time       59 non-null float64\nHist Ave Max Wind Speed         0 non-null float64\nHist Ave Visibility             0 non-null float64\nSea Level Pressure              299 non-null object\nHist Ave Sea Level Pressure     0 non-null float64\nDay Length                      298 non-null object\nCondition                       298 non-null object\nNotes                           3 non-null object\ndtypes: datetime64[ns](1), float64(15), object(10)\nmemory usage: 61.1+ KB\n"
     ]
    }
   ],
   "source": [
    "launch_data.info()"
   ]
  },
  {
   "cell_type": "code",
   "execution_count": 5,
   "metadata": {},
   "outputs": [
    {
     "output_type": "execute_result",
     "data": {
      "text/plain": [
       "        Name       Date Time (East Coast)        Location Crewed or Uncrewed  \\\n",
       "0          0 1958-12-04                 0  Cape Canaveral           Uncrewed   \n",
       "1          0 1958-12-05                 0  Cape Canaveral           Uncrewed   \n",
       "2  Pioneer 3 1958-12-06          01:45:00  Cape Canaveral           Uncrewed   \n",
       "3          0 1958-12-07                 0  Cape Canaveral           Uncrewed   \n",
       "4          0 1958-12-08                 0  Cape Canaveral           Uncrewed   \n",
       "\n",
       "  Launched?  High Temp  Low Temp  Ave Temp  Temp at Launch Time  ...  \\\n",
       "0         N       75.0      68.0     71.00                  0.0  ...   \n",
       "1         N       78.0      70.0     73.39                  0.0  ...   \n",
       "2         Y       73.0       0.0     60.21                 62.0  ...   \n",
       "3         N       76.0      57.0     66.04                  0.0  ...   \n",
       "4         N       79.0      60.0     70.52                  0.0  ...   \n",
       "\n",
       "   Max Wind Speed  Visibility  Wind Speed at Launch Time  \\\n",
       "0            16.0        15.0                        0.0   \n",
       "1            14.0        10.0                        0.0   \n",
       "2            15.0        10.0                       11.0   \n",
       "3            10.0        10.0                        0.0   \n",
       "4            12.0        10.0                        0.0   \n",
       "\n",
       "   Hist Ave Max Wind Speed  Hist Ave Visibility Sea Level Pressure  \\\n",
       "0                      0.0                  0.0              30.22   \n",
       "1                      0.0                  0.0               30.2   \n",
       "2                      0.0                  0.0              30.25   \n",
       "3                      0.0                  0.0              30.28   \n",
       "4                      0.0                  0.0              30.23   \n",
       "\n",
       "   Hist Ave Sea Level Pressure  Day Length      Condition  Notes  \n",
       "0                          0.0    10:26:00         Cloudy      0  \n",
       "1                          0.0    10:26:00         Cloudy      0  \n",
       "2                          0.0    10:25:00         Cloudy      0  \n",
       "3                          0.0    10:25:00  Partly Cloudy      0  \n",
       "4                          0.0    12:24:00  Partly Cloudy      0  \n",
       "\n",
       "[5 rows x 26 columns]"
      ],
      "text/html": "<div>\n<style scoped>\n    .dataframe tbody tr th:only-of-type {\n        vertical-align: middle;\n    }\n\n    .dataframe tbody tr th {\n        vertical-align: top;\n    }\n\n    .dataframe thead th {\n        text-align: right;\n    }\n</style>\n<table border=\"1\" class=\"dataframe\">\n  <thead>\n    <tr style=\"text-align: right;\">\n      <th></th>\n      <th>Name</th>\n      <th>Date</th>\n      <th>Time (East Coast)</th>\n      <th>Location</th>\n      <th>Crewed or Uncrewed</th>\n      <th>Launched?</th>\n      <th>High Temp</th>\n      <th>Low Temp</th>\n      <th>Ave Temp</th>\n      <th>Temp at Launch Time</th>\n      <th>...</th>\n      <th>Max Wind Speed</th>\n      <th>Visibility</th>\n      <th>Wind Speed at Launch Time</th>\n      <th>Hist Ave Max Wind Speed</th>\n      <th>Hist Ave Visibility</th>\n      <th>Sea Level Pressure</th>\n      <th>Hist Ave Sea Level Pressure</th>\n      <th>Day Length</th>\n      <th>Condition</th>\n      <th>Notes</th>\n    </tr>\n  </thead>\n  <tbody>\n    <tr>\n      <th>0</th>\n      <td>0</td>\n      <td>1958-12-04</td>\n      <td>0</td>\n      <td>Cape Canaveral</td>\n      <td>Uncrewed</td>\n      <td>N</td>\n      <td>75.0</td>\n      <td>68.0</td>\n      <td>71.00</td>\n      <td>0.0</td>\n      <td>...</td>\n      <td>16.0</td>\n      <td>15.0</td>\n      <td>0.0</td>\n      <td>0.0</td>\n      <td>0.0</td>\n      <td>30.22</td>\n      <td>0.0</td>\n      <td>10:26:00</td>\n      <td>Cloudy</td>\n      <td>0</td>\n    </tr>\n    <tr>\n      <th>1</th>\n      <td>0</td>\n      <td>1958-12-05</td>\n      <td>0</td>\n      <td>Cape Canaveral</td>\n      <td>Uncrewed</td>\n      <td>N</td>\n      <td>78.0</td>\n      <td>70.0</td>\n      <td>73.39</td>\n      <td>0.0</td>\n      <td>...</td>\n      <td>14.0</td>\n      <td>10.0</td>\n      <td>0.0</td>\n      <td>0.0</td>\n      <td>0.0</td>\n      <td>30.2</td>\n      <td>0.0</td>\n      <td>10:26:00</td>\n      <td>Cloudy</td>\n      <td>0</td>\n    </tr>\n    <tr>\n      <th>2</th>\n      <td>Pioneer 3</td>\n      <td>1958-12-06</td>\n      <td>01:45:00</td>\n      <td>Cape Canaveral</td>\n      <td>Uncrewed</td>\n      <td>Y</td>\n      <td>73.0</td>\n      <td>0.0</td>\n      <td>60.21</td>\n      <td>62.0</td>\n      <td>...</td>\n      <td>15.0</td>\n      <td>10.0</td>\n      <td>11.0</td>\n      <td>0.0</td>\n      <td>0.0</td>\n      <td>30.25</td>\n      <td>0.0</td>\n      <td>10:25:00</td>\n      <td>Cloudy</td>\n      <td>0</td>\n    </tr>\n    <tr>\n      <th>3</th>\n      <td>0</td>\n      <td>1958-12-07</td>\n      <td>0</td>\n      <td>Cape Canaveral</td>\n      <td>Uncrewed</td>\n      <td>N</td>\n      <td>76.0</td>\n      <td>57.0</td>\n      <td>66.04</td>\n      <td>0.0</td>\n      <td>...</td>\n      <td>10.0</td>\n      <td>10.0</td>\n      <td>0.0</td>\n      <td>0.0</td>\n      <td>0.0</td>\n      <td>30.28</td>\n      <td>0.0</td>\n      <td>10:25:00</td>\n      <td>Partly Cloudy</td>\n      <td>0</td>\n    </tr>\n    <tr>\n      <th>4</th>\n      <td>0</td>\n      <td>1958-12-08</td>\n      <td>0</td>\n      <td>Cape Canaveral</td>\n      <td>Uncrewed</td>\n      <td>N</td>\n      <td>79.0</td>\n      <td>60.0</td>\n      <td>70.52</td>\n      <td>0.0</td>\n      <td>...</td>\n      <td>12.0</td>\n      <td>10.0</td>\n      <td>0.0</td>\n      <td>0.0</td>\n      <td>0.0</td>\n      <td>30.23</td>\n      <td>0.0</td>\n      <td>12:24:00</td>\n      <td>Partly Cloudy</td>\n      <td>0</td>\n    </tr>\n  </tbody>\n</table>\n<p>5 rows × 26 columns</p>\n</div>"
     },
     "metadata": {},
     "execution_count": 5
    }
   ],
   "source": [
    "## To handle missing values, we will fill the missing values with appropriate values \n",
    "launch_data['Launched?'].fillna('N',inplace=True)\n",
    "launch_data['Crewed or Uncrewed'].fillna('Uncrewed',inplace=True)\n",
    "launch_data['Wind Direction'].fillna('unknown',inplace=True)\n",
    "launch_data['Condition'].fillna('Fair',inplace=True)\n",
    "launch_data.fillna(0,inplace=True)\n",
    "launch_data.head()"
   ]
  },
  {
   "source": [
    "DATA MANIPULATION"
   ],
   "cell_type": "markdown",
   "metadata": {}
  },
  {
   "cell_type": "code",
   "execution_count": 6,
   "metadata": {},
   "outputs": [],
   "source": [
    "## As part of the data cleaning process, we have to convert text data to numerical because computers understand only numbers\n",
    "label_encoder = preprocessing.LabelEncoder()\n",
    "\n",
    "# Three columns have categorical text info, and we convert them to numbers\n",
    "launch_data['Crewed or Uncrewed'] = label_encoder.fit_transform(launch_data['Crewed or Uncrewed'])\n",
    "launch_data['Wind Direction'] = label_encoder.fit_transform(launch_data['Wind Direction'])\n",
    "launch_data['Condition'] = label_encoder.fit_transform(launch_data['Condition'])"
   ]
  },
  {
   "cell_type": "code",
   "execution_count": 7,
   "metadata": {},
   "outputs": [
    {
     "output_type": "execute_result",
     "data": {
      "text/plain": [
       "        Name       Date Time (East Coast)        Location  Crewed or Uncrewed  \\\n",
       "0          0 1958-12-04                 0  Cape Canaveral                   1   \n",
       "1          0 1958-12-05                 0  Cape Canaveral                   1   \n",
       "2  Pioneer 3 1958-12-06          01:45:00  Cape Canaveral                   1   \n",
       "3          0 1958-12-07                 0  Cape Canaveral                   1   \n",
       "4          0 1958-12-08                 0  Cape Canaveral                   1   \n",
       "\n",
       "  Launched?  High Temp  Low Temp  Ave Temp  Temp at Launch Time  ...  \\\n",
       "0         N       75.0      68.0     71.00                  0.0  ...   \n",
       "1         N       78.0      70.0     73.39                  0.0  ...   \n",
       "2         Y       73.0       0.0     60.21                 62.0  ...   \n",
       "3         N       76.0      57.0     66.04                  0.0  ...   \n",
       "4         N       79.0      60.0     70.52                  0.0  ...   \n",
       "\n",
       "   Max Wind Speed  Visibility  Wind Speed at Launch Time  \\\n",
       "0            16.0        15.0                        0.0   \n",
       "1            14.0        10.0                        0.0   \n",
       "2            15.0        10.0                       11.0   \n",
       "3            10.0        10.0                        0.0   \n",
       "4            12.0        10.0                        0.0   \n",
       "\n",
       "   Hist Ave Max Wind Speed  Hist Ave Visibility  Sea Level Pressure  \\\n",
       "0                      0.0                  0.0               30.22   \n",
       "1                      0.0                  0.0                30.2   \n",
       "2                      0.0                  0.0               30.25   \n",
       "3                      0.0                  0.0               30.28   \n",
       "4                      0.0                  0.0               30.23   \n",
       "\n",
       "   Hist Ave Sea Level Pressure  Day Length  Condition  Notes  \n",
       "0                          0.0    10:26:00          0      0  \n",
       "1                          0.0    10:26:00          0      0  \n",
       "2                          0.0    10:25:00          0      0  \n",
       "3                          0.0    10:25:00          6      0  \n",
       "4                          0.0    12:24:00          6      0  \n",
       "\n",
       "[5 rows x 26 columns]"
      ],
      "text/html": "<div>\n<style scoped>\n    .dataframe tbody tr th:only-of-type {\n        vertical-align: middle;\n    }\n\n    .dataframe tbody tr th {\n        vertical-align: top;\n    }\n\n    .dataframe thead th {\n        text-align: right;\n    }\n</style>\n<table border=\"1\" class=\"dataframe\">\n  <thead>\n    <tr style=\"text-align: right;\">\n      <th></th>\n      <th>Name</th>\n      <th>Date</th>\n      <th>Time (East Coast)</th>\n      <th>Location</th>\n      <th>Crewed or Uncrewed</th>\n      <th>Launched?</th>\n      <th>High Temp</th>\n      <th>Low Temp</th>\n      <th>Ave Temp</th>\n      <th>Temp at Launch Time</th>\n      <th>...</th>\n      <th>Max Wind Speed</th>\n      <th>Visibility</th>\n      <th>Wind Speed at Launch Time</th>\n      <th>Hist Ave Max Wind Speed</th>\n      <th>Hist Ave Visibility</th>\n      <th>Sea Level Pressure</th>\n      <th>Hist Ave Sea Level Pressure</th>\n      <th>Day Length</th>\n      <th>Condition</th>\n      <th>Notes</th>\n    </tr>\n  </thead>\n  <tbody>\n    <tr>\n      <th>0</th>\n      <td>0</td>\n      <td>1958-12-04</td>\n      <td>0</td>\n      <td>Cape Canaveral</td>\n      <td>1</td>\n      <td>N</td>\n      <td>75.0</td>\n      <td>68.0</td>\n      <td>71.00</td>\n      <td>0.0</td>\n      <td>...</td>\n      <td>16.0</td>\n      <td>15.0</td>\n      <td>0.0</td>\n      <td>0.0</td>\n      <td>0.0</td>\n      <td>30.22</td>\n      <td>0.0</td>\n      <td>10:26:00</td>\n      <td>0</td>\n      <td>0</td>\n    </tr>\n    <tr>\n      <th>1</th>\n      <td>0</td>\n      <td>1958-12-05</td>\n      <td>0</td>\n      <td>Cape Canaveral</td>\n      <td>1</td>\n      <td>N</td>\n      <td>78.0</td>\n      <td>70.0</td>\n      <td>73.39</td>\n      <td>0.0</td>\n      <td>...</td>\n      <td>14.0</td>\n      <td>10.0</td>\n      <td>0.0</td>\n      <td>0.0</td>\n      <td>0.0</td>\n      <td>30.2</td>\n      <td>0.0</td>\n      <td>10:26:00</td>\n      <td>0</td>\n      <td>0</td>\n    </tr>\n    <tr>\n      <th>2</th>\n      <td>Pioneer 3</td>\n      <td>1958-12-06</td>\n      <td>01:45:00</td>\n      <td>Cape Canaveral</td>\n      <td>1</td>\n      <td>Y</td>\n      <td>73.0</td>\n      <td>0.0</td>\n      <td>60.21</td>\n      <td>62.0</td>\n      <td>...</td>\n      <td>15.0</td>\n      <td>10.0</td>\n      <td>11.0</td>\n      <td>0.0</td>\n      <td>0.0</td>\n      <td>30.25</td>\n      <td>0.0</td>\n      <td>10:25:00</td>\n      <td>0</td>\n      <td>0</td>\n    </tr>\n    <tr>\n      <th>3</th>\n      <td>0</td>\n      <td>1958-12-07</td>\n      <td>0</td>\n      <td>Cape Canaveral</td>\n      <td>1</td>\n      <td>N</td>\n      <td>76.0</td>\n      <td>57.0</td>\n      <td>66.04</td>\n      <td>0.0</td>\n      <td>...</td>\n      <td>10.0</td>\n      <td>10.0</td>\n      <td>0.0</td>\n      <td>0.0</td>\n      <td>0.0</td>\n      <td>30.28</td>\n      <td>0.0</td>\n      <td>10:25:00</td>\n      <td>6</td>\n      <td>0</td>\n    </tr>\n    <tr>\n      <th>4</th>\n      <td>0</td>\n      <td>1958-12-08</td>\n      <td>0</td>\n      <td>Cape Canaveral</td>\n      <td>1</td>\n      <td>N</td>\n      <td>79.0</td>\n      <td>60.0</td>\n      <td>70.52</td>\n      <td>0.0</td>\n      <td>...</td>\n      <td>12.0</td>\n      <td>10.0</td>\n      <td>0.0</td>\n      <td>0.0</td>\n      <td>0.0</td>\n      <td>30.23</td>\n      <td>0.0</td>\n      <td>12:24:00</td>\n      <td>6</td>\n      <td>0</td>\n    </tr>\n  </tbody>\n</table>\n<p>5 rows × 26 columns</p>\n</div>"
     },
     "metadata": {},
     "execution_count": 7
    }
   ],
   "source": [
    "launch_data.head()"
   ]
  },
  {
   "source": [
    "FURTHER DATA CLEANING"
   ],
   "cell_type": "markdown",
   "metadata": {}
  },
  {
   "cell_type": "code",
   "execution_count": 8,
   "metadata": {},
   "outputs": [],
   "source": [
    "# First, we save the output we are interested in. In this case, \"launch\" yes and no's go into the output variable.\n",
    "y = launch_data['Launched?']\n",
    "\n",
    "# Removing the columns we are not interested in\n",
    "launch_data.drop(['Name','Date','Time (East Coast)','Location','Launched?','Hist Ave Sea Level Pressure','Sea Level Pressure','Day Length','Notes','Hist Ave Visibility', 'Hist Ave Max Wind Speed'],axis=1, inplace=True)\n",
    "\n",
    "# Saving the rest of the data as input data\n",
    "X = launch_data"
   ]
  },
  {
   "cell_type": "code",
   "execution_count": 9,
   "metadata": {},
   "outputs": [
    {
     "output_type": "execute_result",
     "data": {
      "text/plain": [
       "Index(['Crewed or Uncrewed', 'High Temp', 'Low Temp', 'Ave Temp',\n",
       "       'Temp at Launch Time', 'Hist High Temp', 'Hist Low Temp',\n",
       "       'Hist Ave Temp', 'Percipitation at Launch Time',\n",
       "       'Hist Ave Percipitation', 'Wind Direction', 'Max Wind Speed',\n",
       "       'Visibility', 'Wind Speed at Launch Time', 'Condition'],\n",
       "      dtype='object')"
      ]
     },
     "metadata": {},
     "execution_count": 9
    }
   ],
   "source": [
    "# List of variables that our machine learning algorithm is going to look at:\n",
    "X.columns"
   ]
  },
  {
   "source": [
    "SPLIT DATA"
   ],
   "cell_type": "markdown",
   "metadata": {}
  },
  {
   "cell_type": "code",
   "execution_count": 10,
   "metadata": {},
   "outputs": [],
   "source": [
    "X_train, X_test, y_train, y_test = train_test_split(X,y, test_size=0.2, random_state=99)"
   ]
  },
  {
   "source": [
    "FIT MODEL"
   ],
   "cell_type": "markdown",
   "metadata": {}
  },
  {
   "cell_type": "code",
   "execution_count": 11,
   "metadata": {},
   "outputs": [
    {
     "output_type": "execute_result",
     "data": {
      "text/plain": [
       "DecisionTreeClassifier(ccp_alpha=0.0, class_weight=None, criterion='gini',\n",
       "                       max_depth=None, max_features=None, max_leaf_nodes=None,\n",
       "                       min_impurity_decrease=0.0, min_impurity_split=None,\n",
       "                       min_samples_leaf=1, min_samples_split=2,\n",
       "                       min_weight_fraction_leaf=0.0, presort='deprecated',\n",
       "                       random_state=None, splitter='best')"
      ]
     },
     "metadata": {},
     "execution_count": 11
    }
   ],
   "source": [
    "from sklearn.tree import DecisionTreeClassifier\n",
    "from sklearn import tree\n",
    "# Fitting the model to the training data\n",
    "tree_model = tree.DecisionTreeClassifier()\n",
    "tree_model.fit(X_train,y_train)"
   ]
  },
  {
   "source": [
    "PREDICT"
   ],
   "cell_type": "markdown",
   "metadata": {}
  },
  {
   "cell_type": "code",
   "execution_count": 12,
   "metadata": {},
   "outputs": [
    {
     "output_type": "stream",
     "name": "stdout",
     "text": [
      "['N' 'N' 'N' 'Y' 'N' 'N' 'N' 'N' 'Y' 'Y' 'N' 'Y' 'N' 'N' 'N' 'N' 'N' 'N'\n 'N' 'N' 'N' 'N' 'Y' 'Y' 'N' 'N' 'N' 'N' 'N' 'N' 'N' 'Y' 'N' 'N' 'N' 'N'\n 'N' 'N' 'N' 'N' 'N' 'N' 'Y' 'N' 'N' 'N' 'Y' 'N' 'N' 'N' 'N' 'N' 'N' 'N'\n 'N' 'N' 'N' 'N' 'N' 'Y']\n"
     ]
    }
   ],
   "source": [
    "# Do prediction on test Data\n",
    "y_pred = tree_model.predict(X_test)\n",
    "print(y_pred)"
   ]
  },
  {
   "source": [
    "SCORE MODEL"
   ],
   "cell_type": "markdown",
   "metadata": {}
  },
  {
   "cell_type": "code",
   "execution_count": 16,
   "metadata": {},
   "outputs": [
    {
     "output_type": "execute_result",
     "data": {
      "text/plain": [
       "'digraph Tree {\\nnode [shape=box] ;\\n0 [label=\"X[13] <= 1.0\\\\ngini = 0.32\\\\nsamples = 240\\\\nvalue = [192, 48]\"] ;\\n1 [label=\"gini = 0.0\\\\nsamples = 191\\\\nvalue = [191, 0]\"] ;\\n0 -> 1 [labeldistance=2.5, labelangle=45, headlabel=\"True\"] ;\\n2 [label=\"X[11] <= 30.5\\\\ngini = 0.04\\\\nsamples = 49\\\\nvalue = [1, 48]\"] ;\\n0 -> 2 [labeldistance=2.5, labelangle=-45, headlabel=\"False\"] ;\\n3 [label=\"gini = 0.0\\\\nsamples = 48\\\\nvalue = [0, 48]\"] ;\\n2 -> 3 ;\\n4 [label=\"gini = 0.0\\\\nsamples = 1\\\\nvalue = [1, 0]\"] ;\\n2 -> 4 ;\\n}'"
      ]
     },
     "metadata": {},
     "execution_count": 16
    }
   ],
   "source": [
    "# Calculate accuracy\n",
    "tree_model.score(X_test,y_test)\n",
    "tree.export_graphviz(tree_model)"
   ]
  },
  {
   "source": [
    "VISIALIZE"
   ],
   "cell_type": "markdown",
   "metadata": {}
  },
  {
   "cell_type": "code",
   "execution_count": 14,
   "metadata": {},
   "outputs": [],
   "source": [
    "# Let's import a library for visualizing our decision tree.\n",
    "from sklearn.tree import export_graphviz\n",
    "\n",
    "def tree_graph_to_png(tree, feature_names,class_names, png_file_to_save):\n",
    "    tree_str = export_graphviz(tree, feature_names=feature_names, class_names=class_names,\n",
    "                                     filled=True, out_file=None)\n",
    "    graph = pydotplus.graph_from_dot_data(tree_str)  \n",
    "    return Image(graph.create_png())"
   ]
  }
 ]
}